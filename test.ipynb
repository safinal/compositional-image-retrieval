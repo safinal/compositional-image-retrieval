{
 "cells": [
  {
   "cell_type": "code",
   "execution_count": 52,
   "metadata": {},
   "outputs": [],
   "source": [
    "import torch\n",
    "import torchvision\n",
    "import pandas as pd\n",
    "import os"
   ]
  },
  {
   "cell_type": "code",
   "execution_count": 53,
   "metadata": {},
   "outputs": [],
   "source": [
    "class RetrievalDataset(torch.utils.data.Dataset):\n",
    "    def __init__(self, img_dir_path: str = os.path.join('dataset', 'images'), annotations_file_path: str = os.path.join('dataset', 'data.csv'), transform=None) -> None:\n",
    "        self.img_dir_path = img_dir_path\n",
    "        self.annotations = pd.read_csv(annotations_file_path)\n",
    "        self.transform = transform\n",
    "    \n",
    "    def __len__(self) -> int:\n",
    "        return len(self.annotations)\n",
    "\n",
    "    def __getitem__(self, idx: int) -> tuple:\n",
    "        query_img_path = os.path.join(self.img_dir_path, self.annotations.iloc[idx]['query_image'])\n",
    "        query_text = self.annotations.iloc[idx]['query_text']\n",
    "        target_img_path = os.path.join(self.img_dir_path, self.annotations.iloc[idx]['target_image'])\n",
    "        query_img = torchvision.io.read_image(path=query_img_path, mode=torchvision.io.image.ImageReadMode.RGB)\n",
    "        target_img = torchvision.io.read_image(path=target_img_path, mode=torchvision.io.image.ImageReadMode.RGB)\n",
    "        if self.transform:\n",
    "            query_img = self.transform(query_img)\n",
    "            target_img = self.transform(target_img)\n",
    "        return query_img, query_text, target_img"
   ]
  },
  {
   "cell_type": "code",
   "execution_count": 58,
   "metadata": {},
   "outputs": [],
   "source": [
    "transform = torchvision.transforms.v2.Compose([\n",
    "    torchvision.transforms.v2.ToDtype(torch.float32, scale=True),\n",
    "    torchvision.transforms.v2.Normalize(mean=[0.485, 0.456, 0.406], std=[0.229, 0.224, 0.225]),\n",
    "])\n",
    "\n",
    "dataset = RetrievalDataset(transform=transform)\n",
    "train_dataset, val_dataset = torch.utils.data.random_split(dataset=dataset, lengths=[0.8, 0.2])"
   ]
  },
  {
   "cell_type": "code",
   "execution_count": null,
   "metadata": {},
   "outputs": [],
   "source": []
  }
 ],
 "metadata": {
  "kernelspec": {
   "display_name": "venv",
   "language": "python",
   "name": "python3"
  },
  "language_info": {
   "codemirror_mode": {
    "name": "ipython",
    "version": 3
   },
   "file_extension": ".py",
   "mimetype": "text/x-python",
   "name": "python",
   "nbconvert_exporter": "python",
   "pygments_lexer": "ipython3",
   "version": "3.10.11"
  }
 },
 "nbformat": 4,
 "nbformat_minor": 2
}
